{
 "cells": [
  {
   "cell_type": "code",
   "execution_count": 1,
   "id": "3c19cbfa",
   "metadata": {},
   "outputs": [
    {
     "name": "stderr",
     "output_type": "stream",
     "text": [
      "/data/wangyidan-slurm/anaconda3/envs/pt4dm/lib/python3.8/site-packages/tqdm/auto.py:22: TqdmWarning: IProgress not found. Please update jupyter and ipywidgets. See https://ipywidgets.readthedocs.io/en/stable/user_install.html\n",
      "  from .autonotebook import tqdm as notebook_tqdm\n"
     ]
    }
   ],
   "source": [
    "import torch\n",
    "from torch import nn"
   ]
  },
  {
   "cell_type": "markdown",
   "id": "f76214b1",
   "metadata": {},
   "source": [
    "## 对nn.Module的再认识"
   ]
  },
  {
   "cell_type": "markdown",
   "id": "31d97841",
   "metadata": {},
   "source": [
    "### parameter & submodel\n",
    "* net._parameters\n",
    "* net._modules\n",
    "* net.named_parameters()\n",
    "* net.named_modules()"
   ]
  },
  {
   "cell_type": "code",
   "execution_count": 2,
   "id": "fc421b76",
   "metadata": {},
   "outputs": [
    {
     "data": {
      "text/plain": [
       "Net(\n",
       "  (submodel1): Linear(in_features=3, out_features=4, bias=True)\n",
       ")"
      ]
     },
     "execution_count": 2,
     "metadata": {},
     "output_type": "execute_result"
    }
   ],
   "source": [
    "class Net(nn.Module):\n",
    "    def __init__(self):\n",
    "        super(Net,self).__init__()\n",
    "        self.param1 = nn.Parameter(torch.randn(3,3)) # 当前模块的要学习的参数\n",
    "        self.submodel1 = nn.Linear(3,4) #  当前模块的子模块\n",
    "        \n",
    "    def forward(self,x):\n",
    "        x = self.param1.mm(x) # mm 矩阵乘法\n",
    "        x = self.submodel1(x)\n",
    "        \n",
    "        return x\n",
    "net = Net()\n",
    "net"
   ]
  },
  {
   "cell_type": "code",
   "execution_count": 3,
   "id": "1ec806ce",
   "metadata": {},
   "outputs": [
    {
     "data": {
      "text/plain": [
       "OrderedDict([('submodel1', Linear(in_features=3, out_features=4, bias=True))])"
      ]
     },
     "execution_count": 3,
     "metadata": {},
     "output_type": "execute_result"
    }
   ],
   "source": [
    "# 查看模型的子模型\n",
    "net._modules"
   ]
  },
  {
   "cell_type": "code",
   "execution_count": 4,
   "id": "4168c6ac",
   "metadata": {},
   "outputs": [
    {
     "data": {
      "text/plain": [
       "OrderedDict([('param1',\n",
       "              Parameter containing:\n",
       "              tensor([[-0.1432, -0.3114,  0.0510],\n",
       "                      [ 0.4637,  1.1742,  1.2909],\n",
       "                      [ 0.7148,  0.8683,  2.0601]], requires_grad=True))])"
      ]
     },
     "execution_count": 4,
     "metadata": {},
     "output_type": "execute_result"
    }
   ],
   "source": [
    "# 查看模型的训练参数\n",
    "net._parameters # 只有param1，3*3"
   ]
  },
  {
   "cell_type": "code",
   "execution_count": 5,
   "id": "8ec651c0",
   "metadata": {},
   "outputs": [
    {
     "data": {
      "text/plain": [
       "tensor([[True, True, True],\n",
       "        [True, True, True],\n",
       "        [True, True, True]])"
      ]
     },
     "execution_count": 5,
     "metadata": {},
     "output_type": "execute_result"
    }
   ],
   "source": [
    "net.param1 == net._parameters['param1']"
   ]
  },
  {
   "cell_type": "code",
   "execution_count": 6,
   "id": "f8bbabee",
   "metadata": {},
   "outputs": [
    {
     "name": "stdout",
     "output_type": "stream",
     "text": [
      "param1 torch.Size([3, 3])\n",
      "submodel1.weight torch.Size([4, 3])\n",
      "submodel1.bias torch.Size([4])\n"
     ]
    }
   ],
   "source": [
    "# named_parameters()则会返回所有的训练参数\n",
    "for name,param in net.named_parameters():\n",
    "    print(name,param.size())"
   ]
  },
  {
   "cell_type": "code",
   "execution_count": 7,
   "id": "766d9ca1",
   "metadata": {},
   "outputs": [
    {
     "name": "stdout",
     "output_type": "stream",
     "text": [
      " Net(\n",
      "  (submodel1): Linear(in_features=3, out_features=4, bias=True)\n",
      ")\n",
      "submodel1 Linear(in_features=3, out_features=4, bias=True)\n"
     ]
    }
   ],
   "source": [
    "# named_modules()\n",
    "for name,submodel in net.named_modules():\n",
    "    print(name,submodel)"
   ]
  },
  {
   "cell_type": "markdown",
   "id": "5167dcaf",
   "metadata": {},
   "source": [
    "### _buffers\n",
    "`_buffers`：缓存。如batchnorm使用momentum机制，每次前向传播需用到上一次前向传播的结果。"
   ]
  },
  {
   "cell_type": "code",
   "execution_count": 8,
   "id": "aba768b0",
   "metadata": {},
   "outputs": [
    {
     "data": {
      "text/plain": [
       "OrderedDict([('running_mean', tensor([-0.0312, -0.0080])),\n",
       "             ('running_var', tensor([0.9707, 1.1294])),\n",
       "             ('num_batches_tracked', tensor(1))])"
      ]
     },
     "execution_count": 8,
     "metadata": {},
     "output_type": "execute_result"
    }
   ],
   "source": [
    "# _buffers\n",
    "bn = nn.BatchNorm1d(num_features=2)\n",
    "x = torch.randn(3,2)\n",
    "output = bn(x)\n",
    "bn._buffers"
   ]
  },
  {
   "cell_type": "markdown",
   "id": "e38a1a6a",
   "metadata": {},
   "source": [
    "### module 与 子module\n",
    "- named_childen\n",
    "- named_modules"
   ]
  },
  {
   "cell_type": "markdown",
   "id": "53e19ffd",
   "metadata": {},
   "source": [
    "\n",
    "### train 与 eval\n",
    "`model.training`\n",
    "对于batchnorm、dropout、instancenorm等在训练和测试阶段行为差距巨大的层，如果在测试时不将其training值设为True，则可能会有很大影响。\n",
    "调用`model.train()`函数，它会将当前module及其子module中的所有training属性都设为True，相应的，`model.eval()`函数会把training属性都设为False。"
   ]
  },
  {
   "cell_type": "code",
   "execution_count": 9,
   "id": "9861b9bb",
   "metadata": {},
   "outputs": [
    {
     "data": {
      "text/plain": [
       "tensor([[ 0.,  0.,  0.,  6.],\n",
       "        [ 8., 10., 12.,  0.],\n",
       "        [16., 18., 20.,  0.]])"
      ]
     },
     "execution_count": 9,
     "metadata": {},
     "output_type": "execute_result"
    }
   ],
   "source": [
    "# 此时是训练阶段\n",
    "x = torch.arange(0,12).view(3,4).float()\n",
    "model = nn.Dropout() # p默认=0.5，一半的数据会被设置为0\n",
    "model(x)"
   ]
  },
  {
   "cell_type": "code",
   "execution_count": 10,
   "id": "a6d1e826",
   "metadata": {},
   "outputs": [
    {
     "data": {
      "text/plain": [
       "tensor([[ 0.,  1.,  2.,  3.],\n",
       "        [ 4.,  5.,  6.,  7.],\n",
       "        [ 8.,  9., 10., 11.]])"
      ]
     },
     "execution_count": 10,
     "metadata": {},
     "output_type": "execute_result"
    }
   ],
   "source": [
    "model.training = False # 非训练阶段，dropout什么都不做\n",
    "model(x)"
   ]
  },
  {
   "cell_type": "code",
   "execution_count": 11,
   "id": "ca3cd501",
   "metadata": {},
   "outputs": [
    {
     "name": "stdout",
     "output_type": "stream",
     "text": [
      "True True\n",
      "False False\n",
      "True True\n"
     ]
    }
   ],
   "source": [
    "print(net.training, net.submodel1.training)\n",
    "net.eval()\n",
    "print(net.training, net.submodel1.training)\n",
    "net.train()\n",
    "print(net.training, net.submodel1.training)"
   ]
  },
  {
   "cell_type": "markdown",
   "id": "6c2f5a2d",
   "metadata": {},
   "source": [
    "\n",
    "### 钩子(?)\n",
    "钩子函数主要用在获取某些中间结果的情景，如中间某一层的输出或某一层的梯度。\n",
    "- `register_forward_hook`\n",
    "- `register_backward_hook`"
   ]
  },
  {
   "cell_type": "markdown",
   "id": "b24ee97f",
   "metadata": {},
   "source": [
    "下面考虑一种场景，有一个预训练好的模型，需要提取模型的某一层（不是最后一层）的输出作为特征进行分类，但又不希望修改其原有的模型定义文件，这时就可以利用钩子函数。下面给出实现的伪代码。\n",
    "```python\n",
    "model = VGG()\n",
    "features = torch.Tensor()\n",
    "def hook(model,input,output):\n",
    "    features.copy_(output.data)\n",
    "\n",
    "handle = model.layer8.register_forward_hook(hook) # !!\n",
    "_ = model(input)\n",
    "# 用完后删除\n",
    "handle.remove()\n",
    "```\n"
   ]
  },
  {
   "cell_type": "markdown",
   "id": "6b45a939",
   "metadata": {},
   "source": [
    "\n",
    "### nn.Module的构造函数(?)\n",
    "- `__getattr__`\n",
    "-`__setattr__`\n",
    "\n",
    "nn.Module实现了自定义的`__setattr__`函数，当执行`module.name=value`时，会在`__setattr__`中判断value是否为`Parameter`或`nn.Module`对象，如果是则将这些对象加到`_parameters`和`_modules`两个字典中，而如果是其它类型的对象，如`Variable`、`list`、`dict`等，则调用默认的操作，将这个值保存在`__dict__`中。\n",
    "\n",
    "nn.Module能够自动组织参数parameter和子模块module的原因"
   ]
  },
  {
   "cell_type": "code",
   "execution_count": 14,
   "id": "5fc7f312",
   "metadata": {},
   "outputs": [
    {
     "data": {
      "text/plain": [
       "OrderedDict([('param',\n",
       "              Parameter containing:\n",
       "              tensor([[1., 1.],\n",
       "                      [1., 1.]], requires_grad=True))])"
      ]
     },
     "execution_count": 14,
     "metadata": {},
     "output_type": "execute_result"
    }
   ],
   "source": [
    "module = nn.Module()\n",
    "module.param = nn.Parameter(torch.ones(2,2)) # setattr，添加参数\n",
    "module._parameters"
   ]
  },
  {
   "cell_type": "code",
   "execution_count": 17,
   "id": "98da8b2c",
   "metadata": {},
   "outputs": [],
   "source": [
    "submodule1 = nn.Linear(2,2)\n",
    "submodule2 = nn.Linear(2,2)\n",
    "module_list = [submodule1,submodule2]"
   ]
  },
  {
   "cell_type": "code",
   "execution_count": 18,
   "id": "2b2a107e",
   "metadata": {},
   "outputs": [
    {
     "name": "stdout",
     "output_type": "stream",
     "text": [
      "_modules:  OrderedDict([('submodule', Linear(in_features=2, out_features=2, bias=True))])\n",
      "__dict__[\"submodules\"]: [Linear(in_features=2, out_features=2, bias=True), Linear(in_features=2, out_features=2, bias=True)]\n"
     ]
    }
   ],
   "source": [
    "module.submodules = module_list # setattr，添加子模型，但因为包含在list对象里，不会被识别到\n",
    "module.submodule = submodule1 # 能够被识别到\n",
    "\n",
    "print('_modules: ',module._modules)\n",
    "print('__dict__[\"submodules\"]:',module.__dict__.get('submodules'))"
   ]
  },
  {
   "cell_type": "code",
   "execution_count": 19,
   "id": "d2e2ad6d",
   "metadata": {},
   "outputs": [
    {
     "name": "stdout",
     "output_type": "stream",
     "text": [
      "ModuleList is instance of nn.Module:  True\n",
      "_modules:  OrderedDict([('submodule', Linear(in_features=2, out_features=2, bias=True)), ('submodules', ModuleList(\n",
      "  (0): Linear(in_features=2, out_features=2, bias=True)\n",
      "  (1): Linear(in_features=2, out_features=2, bias=True)\n",
      "))])\n",
      "__dict__[\"submodules\"]: None\n"
     ]
    }
   ],
   "source": [
    "module_list = nn.ModuleList(module_list)\n",
    "module.submodules = module_list\n",
    "print('ModuleList is instance of nn.Module: ',isinstance(module_list,nn.Module))\n",
    "print('_modules: ',module._modules)\n",
    "print('__dict__[\"submodules\"]:',module.__dict__.get('submodules'))"
   ]
  },
  {
   "cell_type": "code",
   "execution_count": 20,
   "id": "60d633f5",
   "metadata": {},
   "outputs": [
    {
     "data": {
      "text/plain": [
       "Module(\n",
       "  (submodule): Linear(in_features=2, out_features=2, bias=True)\n",
       "  (submodules): ModuleList(\n",
       "    (0): Linear(in_features=2, out_features=2, bias=True)\n",
       "    (1): Linear(in_features=2, out_features=2, bias=True)\n",
       "  )\n",
       ")"
      ]
     },
     "execution_count": 20,
     "metadata": {},
     "output_type": "execute_result"
    }
   ],
   "source": [
    "module"
   ]
  },
  {
   "cell_type": "code",
   "execution_count": 21,
   "id": "97cf766f",
   "metadata": {},
   "outputs": [
    {
     "data": {
      "text/plain": [
       "True"
      ]
     },
     "execution_count": 21,
     "metadata": {},
     "output_type": "execute_result"
    }
   ],
   "source": [
    "getattr(module,'training')"
   ]
  },
  {
   "cell_type": "code",
   "execution_count": 22,
   "id": "0435566f",
   "metadata": {},
   "outputs": [
    {
     "data": {
      "text/plain": [
       "Parameter containing:\n",
       "tensor([[1., 1.],\n",
       "        [1., 1.]], requires_grad=True)"
      ]
     },
     "execution_count": 22,
     "metadata": {},
     "output_type": "execute_result"
    }
   ],
   "source": [
    "getattr(module,'param')"
   ]
  },
  {
   "cell_type": "markdown",
   "id": "fc57eddf",
   "metadata": {},
   "source": [
    "\n",
    "### 保存模型\n",
    "- `state_dict()` && `load_state_dict()`\n",
    "- `save()` && `load()`"
   ]
  },
  {
   "cell_type": "code",
   "execution_count": 12,
   "id": "8fc5c446",
   "metadata": {},
   "outputs": [],
   "source": [
    "import os\n",
    "path = 'save_model/'\n",
    "torch.save(net.state_dict(),os.path.join(path,'net.pth'))"
   ]
  },
  {
   "cell_type": "code",
   "execution_count": 13,
   "id": "e653e441",
   "metadata": {},
   "outputs": [
    {
     "data": {
      "text/plain": [
       "<All keys matched successfully>"
      ]
     },
     "execution_count": 13,
     "metadata": {},
     "output_type": "execute_result"
    }
   ],
   "source": [
    "# 加载模型\n",
    "net2 = Net()\n",
    "net2.load_state_dict(torch.load(os.path.join(path,'net.pth')))"
   ]
  },
  {
   "cell_type": "code",
   "execution_count": null,
   "id": "1997a7b7",
   "metadata": {},
   "outputs": [],
   "source": [
    "### GPU上运算\n",
    "- model = model.cuda()：将模型的所有参数转存到GPU\n",
    "- input.cuda()：将输入数据也放置到GPU上\n"
   ]
  }
 ],
 "metadata": {
  "kernelspec": {
   "display_name": "pt4dm",
   "language": "python",
   "name": "pt4dm"
  },
  "language_info": {
   "codemirror_mode": {
    "name": "ipython",
    "version": 3
   },
   "file_extension": ".py",
   "mimetype": "text/x-python",
   "name": "python",
   "nbconvert_exporter": "python",
   "pygments_lexer": "ipython3",
   "version": "3.8.15"
  }
 },
 "nbformat": 4,
 "nbformat_minor": 5
}
